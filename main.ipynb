{
 "cells": [
  {
   "cell_type": "markdown",
   "metadata": {
    "editable": false
   },
   "source": [
    "# Assignment 1\n",
    "This jupyter notebook is meant to be used in conjunction with the full questions in the assignment pdf.\n",
    "\n",
    "## Instructions\n",
    "- Write your code and analyses in the indicated cells.\n",
    "- Ensure that this notebook runs without errors when the cells are run in sequence.\n",
    "- Do not attempt to change the contents of the other cells.\n",
    "\n",
    "## Submission\n",
    "- Ensure that this notebook runs without errors when the cells are run in sequence.\n",
    "- Rename the notebook to `<roll_number>.ipynb` and submit ONLY the notebook file on moodle."
   ]
  },
  {
   "cell_type": "markdown",
   "metadata": {
    "editable": false
   },
   "source": [
    "### Environment setup\n",
    "\n",
    "The following code reads the train and test data (provided along with this template) and outputs the data and labels as numpy arrays. Use these variables in your code.\n",
    "\n",
    "---\n",
    "#### Note on conventions\n",
    "In mathematical notation, the convention is tha data matrices are column-indexed, which means that a input data $x$ has shape $[d, n]$, where $d$ is the number of dimensions and $n$ is the number of data points, respectively.\n",
    "\n",
    "Programming languages have a slightly different convention. Data matrices are of shape $[n, d]$. This has the benefit of being able to access the ith data point as a simple `data[i]`.\n",
    "\n",
    "What this means is that you need to be careful about your handling of matrix dimensions. For example, while the covariance matrix (of shape $[d,d]$) for input data $x$ is calculated as $(x-u)(x-u)^T$, while programming you would do $(x-u)^T(x-u)$ to get the correct output shapes."
   ]
  },
  {
   "cell_type": "code",
   "execution_count": 2,
   "metadata": {
    "editable": false,
    "scrolled": true
   },
   "outputs": [
    {
     "name": "stdout",
     "output_type": "stream",
     "text": [
      "(6000, 784) (1000, 784)\n",
      "(6000,) (1000,)\n"
     ]
    }
   ],
   "source": [
    "from __future__ import print_function\n",
    "\n",
    "import numpy as np\n",
    "import matplotlib.pyplot as plt\n",
    "\n",
    "def read_data(filename):\n",
    "    with open(filename, 'r') as f:\n",
    "        lines = f.readlines()\n",
    "    \n",
    "    num_points = len(lines)\n",
    "    dim_points = 28 * 28\n",
    "    data = np.empty((num_points, dim_points))\n",
    "    labels = np.empty(num_points)\n",
    "    \n",
    "    for ind, line in enumerate(lines):\n",
    "        num = line.split(',')\n",
    "        labels[ind] = int(num[0])\n",
    "        data[ind] = [ int(x) for x in num[1:] ]\n",
    "        \n",
    "    return (data, labels)\n",
    "\n",
    "train_data, train_labels = read_data(\"sample_train.csv\")\n",
    "test_data, test_labels = read_data(\"sample_test.csv\")\n",
    "print(train_data.shape, test_data.shape)\n",
    "print(train_labels.shape, test_labels.shape)"
   ]
  },
  {
   "cell_type": "markdown",
   "metadata": {
    "editable": false
   },
   "source": [
    "# Questions\n",
    "---\n",
    "## 1.3.1 Representation\n",
    "The next code cells, when run, should plot the eigen value spectrum of the covariance matrices corresponding to the mentioned samples. Normalize the eigen value spectrum and only show the first 100 values."
   ]
  },
  {
   "cell_type": "code",
   "execution_count": 3,
   "metadata": {},
   "outputs": [
    {
     "data": {
      "image/png": "[encoded data removed]",
      "text/plain": [
       "<Figure size 432x288 with 1 Axes>"
      ]
     },
     "metadata": {
      "needs_background": "light"
     },
     "output_type": "display_data"
    }
   ],
   "source": [
    "count=0\n",
    "k=6\n",
    "for i in range(6000):\n",
    "    if(train_labels[i]==k):\n",
    "        count+=1\n",
    "a=np.zeros([count,784])\n",
    "j=0\n",
    "for i in range(6000):\n",
    "    if(train_labels[i]==k):\n",
    "        a[j]=train_data[i]\n",
    "        j+=1\n",
    "cov=np.cov(np.transpose(a))\n",
    "v,e=np.linalg.eig(cov)\n",
    "v=np.absolute(v)\n",
    "ma=max(v)\n",
    "mi=min(v)\n",
    "for i in range(784):\n",
    "    v[i]=(v[i]-mi)/(ma-mi)\n",
    "plt.stem(v[0:99])\n",
    "plt.show()"
   ]
  },
  {
   "cell_type": "code",
   "execution_count": 24,
   "metadata": {},
   "outputs": [
    {
     "data": {
      "image/png": "[encoded data removed]",
      "text/plain": [
       "<Figure size 432x288 with 1 Axes>"
      ]
     },
     "metadata": {
      "needs_background": "light"
     },
     "output_type": "display_data"
    }
   ],
   "source": [
    "# Samples corresponding to the last digit of (your roll number + 1) % 10 (plot b)\n",
    "count=0\n",
    "k=7\n",
    "for i in range(6000):\n",
    "    if(train_labels[i]==k):\n",
    "        count+=1\n",
    "a=np.zeros([count,784])\n",
    "j=0\n",
    "for i in range(6000):\n",
    "    if(train_labels[i]==k):\n",
    "        a[j]=train_data[i]\n",
    "        j+=1\n",
    "cov=np.cov(np.transpose(a))\n",
    "v,e=np.linalg.eig(cov)\n",
    "v=np.absolute(v)\n",
    "ma=max(v)\n",
    "mi=min(v)\n",
    "for i in range(784):\n",
    "    v[i]=(v[i]-mi)/(ma-mi)\n",
    "plt.stem(v[0:99])\n",
    "plt.show()"
   ]
  },
  {
   "cell_type": "code",
   "execution_count": 23,
   "metadata": {},
   "outputs": [
    {
     "data": {
      "image/png": "[encoded data removed]",
      "text/plain": [
       "<Figure size 432x288 with 1 Axes>"
      ]
     },
     "metadata": {
      "needs_background": "light"
     },
     "output_type": "display_data"
    }
   ],
   "source": [
    "# All training data (plot c)\n",
    "cov=np.cov(np.transpose(train_data))\n",
    "v,e=np.linalg.eig(cov)\n",
    "ma=max(v)\n",
    "mi=min(v)\n",
    "for i in range(784):\n",
    "    v[i]=(v[i]-mi)/(ma-mi)\n",
    "v=np.absolute(v)\n",
    "plt.stem(v[0:99])\n",
    "plt.show()"
   ]
  },
  {
   "cell_type": "code",
   "execution_count": 22,
   "metadata": {},
   "outputs": [
    {
     "data": {
      "image/png": "[encoded data removed]",
      "text/plain": [
       "<Figure size 432x288 with 1 Axes>"
      ]
     },
     "metadata": {
      "needs_background": "light"
     },
     "output_type": "display_data"
    }
   ],
   "source": [
    "# Randomly selected 50% of the training data (plot d)\n",
    "index = np.random.choice(train_data.shape[0], 3000, replace=False)\n",
    "a=np.zeros([3000,784])\n",
    "j=0\n",
    "for i in index:\n",
    "    a[j]=train_data[i]\n",
    "    j+=1\n",
    "cov=np.cov(np.transpose(train_data))\n",
    "v,e=np.linalg.eig(cov)\n",
    "ma=max(v)\n",
    "mi=min(v)\n",
    "for i in range(784):\n",
    "    v[i]=(v[i]-mi)/(ma-mi)\n",
    "v=np.absolute(v)\n",
    "plt.stem(v[0:99])\n",
    "plt.show()"
   ]
  },
  {
   "cell_type": "markdown",
   "metadata": {
    "editable": false
   },
   "source": [
    "### 1.3.1 Question 1\n",
    "- Are plots a and b different? Why?\n",
    "- Are plots b and c different? Why?\n",
    "- What are the approximate ranks of each plot?"
   ]
  },
  {
   "cell_type": "markdown",
   "metadata": {},
   "source": [
    "1) The plots of a and b are different as we have considered different samples\n",
    "\n",
    "2) The plots of b and c are also different as we have considered all of training data in part-c\n",
    "\n",
    "3) All the 784 dimensions are not independent as evident from the covariance matrix. So the most of the information lies in a lower dimension subspace. The eigen vectors of the covariance matrix represent the directions in which the spread happens i.e the direction which has the most variance. Since all the plots belong to the same distribution/structure, they have similar eigen spectrum. Rank is greater than or equal to the number of non zero eigen values. We can approximate Rank to be equal to number of non zero eigenvalues greater than a small threshold."
   ]
  },
  {
   "cell_type": "markdown",
   "metadata": {
    "editable": false
   },
   "source": [
    "### 1.3.1 Question 2\n",
    "- How many possible images could there be?\n",
    "- What percentage is accessible to us as MNIST data?\n",
    "- If we had acces to all the data, how would the eigen value spectrum of the covariance matrix look?"
   ]
  },
  {
   "cell_type": "markdown",
   "metadata": {},
   "source": [
    "\n",
    "1)Each pixel can take 2 values, 0 or 1. So we have a total of 2^784 images possible\n",
    "\n",
    "2)Percentage of images accessible to us in MNIST are (600/2^784)*100=5.89704e-231\n",
    "\n",
    "3)If we had all the data (collection of all images), then there will be no correlation between any two pixels. The covariance matrix will be a approximate diagonal matrix (since covariance of uncorrelated random variables is equal to zero). All the diagonal values (represent variance) are equal. This implies that eigen values are approximately equal.\n",
    "\n"
   ]
  },
  {
   "cell_type": "markdown",
   "metadata": {
    "editable": false
   },
   "source": [
    "## 1.3.2 Linear Transformation\n",
    "---\n",
    "### 1.3.2 Question 1\n",
    "How does the eigen spectrum change if the original data was multiplied by an orthonormal matrix? Answer analytically and then also validate experimentally."
   ]
  },
  {
   "cell_type": "markdown",
   "metadata": {},
   "source": [
    "Orthonormal matrices have full rank. Hence the columns of the matrix can act as orthonormal basis. If we change the basis, then the eigen vectors will change but not the eigen values i.e the orientation of vectors change but not the relative distance between them."
   ]
  },
  {
   "cell_type": "code",
   "execution_count": 21,
   "metadata": {},
   "outputs": [
    {
     "data": {
      "image/png": "[encoded data removed]",
      "text/plain": [
       "<Figure size 432x288 with 1 Axes>"
      ]
     },
     "metadata": {
      "needs_background": "light"
     },
     "output_type": "display_data"
    }
   ],
   "source": [
    "from numpy import linalg\n",
    "A=np.random.randn(784,784)\n",
    "B=np.dot(A,A.T)\n",
    "eig_value,eig_vector=linalg.eig(B)\n",
    "Q=eig_vector\n",
    "x=np.dot(train_data,Q)\n",
    "y=np.transpose(x)\n",
    "cov_mat=np.cov(y)\n",
    "eigen_value,eigen_vector=linalg.eig(cov_mat)\n",
    "eigen_value=abs(eigen_value)\n",
    "ma=np.max(eigen_value)\n",
    "eigen_value=eigen_value/ma\n",
    "plt.stem(eigen_value[1:100])\n",
    "plt.show()"
   ]
  },
  {
   "cell_type": "markdown",
   "metadata": {
    "editable": false
   },
   "source": [
    "### 1.3.2 Question 2\n",
    "If  samples  were  multiplied  by  784 × 784  matrix  of rank 1 or 2, (rank deficient matrices), how will the eigen spectrum look like?"
   ]
  },
  {
   "cell_type": "markdown",
   "metadata": {},
   "source": [
    "We know that No. of nonzero eigen values of a matrix are less than or equal to rank of the matrix. Rank(AB)<=Rank(A).Rank(B) When we multiply with a rank deficient matrix, the rank of subsequent matrix is less than or equal to two. So no. of non zero eigen values is less than or equal to 2."
   ]
  },
  {
   "cell_type": "markdown",
   "metadata": {
    "editable": false
   },
   "source": [
    "### 1.3.2 Question 3\n",
    "Project the original data into the first and second eigenvectors and plot in 2D"
   ]
  },
  {
   "cell_type": "code",
   "execution_count": 19,
   "metadata": {},
   "outputs": [
    {
     "data": {
      "image/png": "[encoded data removed]",
      "text/plain": [
       "<Figure size 432x288 with 1 Axes>"
      ]
     },
     "metadata": {
      "needs_background": "light"
     },
     "output_type": "display_data"
    }
   ],
   "source": [
    "# Plotting code here\n",
    "cov_mat=np.cov(np.transpose(train_data))\n",
    "v_all,e=np.linalg.eig(cov_mat)\n",
    "v=np.zeros((784,2))\n",
    "v[:,0]=e[:,0].real\n",
    "v[:,1]=e[:,1].real\n",
    "out=train_data.dot(v)\n",
    "a=out[:,0]\n",
    "b=out[:,1]\n",
    "plt.scatter(a,b)\n",
    "plt.show()"
   ]
  },
  {
   "cell_type": "markdown",
   "metadata": {
    "editable": false
   },
   "source": [
    "## 1.3.3 Probabilistic View\n",
    "---\n",
    "In this section you will classify the test set by fitting multivariate gaussians on the train set, with different choices for decision boundaries. On running, your code should print the accuracy on your test set."
   ]
  },
  {
   "cell_type": "code",
   "execution_count": 44,
   "metadata": {},
   "outputs": [
    {
     "name": "stdout",
     "output_type": "stream",
     "text": [
      "accuracy= 74.4 %\n"
     ]
    }
   ],
   "source": [
    "# Print accuracy on the test set using MLE\n",
    "cov_inv=np.zeros((10,784,784))\n",
    "mean = np.zeros((10,784))\n",
    "det =np.zeros(10)\n",
    "samples=np.zeros([600,784])\n",
    "for i in range(10):\n",
    "    k=0\n",
    "    for j in range(6000):\n",
    "        if(train_labels[j]==i):\n",
    "            samples[k]=train_data[j]\n",
    "            k+=1\n",
    "    mean[i] = np.mean(samples,axis=0)\n",
    "    v,e = np.linalg.eig(np.cov(samples.T))\n",
    "    v = v.real\n",
    "    r = np.linalg.matrix_rank(np.cov(samples.T))\n",
    "    cov_inv[i]=np.array(np.linalg.pinv(np.cov(samples.T)),dtype=np.float64)\n",
    "    det[i] = np.sum(np.log(v[:r]))\n",
    "count = 0\n",
    "val=np.zeros(10)\n",
    "for i in range(1000):\n",
    "    for j in range(10):\n",
    "        val[j]= det[j] + ((test_data[i]-mean[j]).dot(cov_inv[j])).dot((test_data[i]-mean[j]).T)\n",
    "    if np.argmin(val) == test_labels[i]:\n",
    "        count += 1\n",
    "\n",
    "print('accuracy=', count/10, '%')"
   ]
  },
  {
   "cell_type": "code",
   "execution_count": 46,
   "metadata": {},
   "outputs": [
    {
     "name": "stdout",
     "output_type": "stream",
     "text": [
      "accuracy= 74.4 %\n"
     ]
    }
   ],
   "source": [
    "cov_inv=np.zeros((10,784,784))\n",
    "mean = np.zeros((10,784))\n",
    "det =np.zeros(10)\n",
    "samples=np.zeros([600,784])\n",
    "for i in range(10):\n",
    "    k=0\n",
    "    for j in range(6000):\n",
    "        if(train_labels[j]==i):\n",
    "            samples[k]=train_data[j]\n",
    "            k+=1\n",
    "    mean[i] = np.mean(samples,axis=0)\n",
    "    v,e = np.linalg.eig(np.cov(samples.T))\n",
    "    v = v.real\n",
    "    r = np.linalg.matrix_rank(np.cov(samples.T))\n",
    "    cov_inv[i]=np.array(np.linalg.pinv(np.cov(samples.T)),dtype=np.float64)\n",
    "    det[i] = np.sum(np.log(v[:r]))\n",
    "count = 0\n",
    "val=np.zeros(10)\n",
    "for i in range(1000):\n",
    "    for j in range(10):\n",
    "        val[j]= det[j] + ((test_data[i]-mean[j]).dot(cov_inv[j])).dot((test_data[i]-mean[j]).T)\n",
    "    if np.argmin(val) == test_labels[i]:\n",
    "        count += 1\n",
    "\n",
    "print('accuracy=', count/10, '%')"
   ]
  },
  {
   "cell_type": "code",
   "execution_count": null,
   "metadata": {},
   "outputs": [],
   "source": [
    "count = 0\n",
    "\n",
    "cov_inv = np.array([[None]*10]*10)\n",
    "cov=np.zeros((10,784,784))\n",
    "for i in range(10):\n",
    "    k=0\n",
    "    for j in range(6000):\n",
    "        if(train_labels[j]==i):\n",
    "            samples[k]=train_data[j]\n",
    "            k+=1\n",
    "    cov[i]=np.cov(samples.T)\n",
    "for i in range(10):\n",
    "    for j in range(i+1):\n",
    "        if cov_inv[i][j] == None:\n",
    "            v, e = np.linalg.eig((sigma[i]+sigma[j])/2)\n",
    "            v = np.real(v)\n",
    "            cov_inv[j][i] = cov_inv[i][j] = np.array(np.linalg.pinv(cov[i]),dtype=np.float64)\n",
    "\n",
    "for i in range(1000):\n",
    "    val,a,b = 10\n",
    "    a=0\n",
    "    b=1\n",
    "    while True:\n",
    "        d1=((test_data[i]-mean[a]).dot(cov_inv[a][b])).dot(test_data[i].T-mean[a].T)\n",
    "        d2=((test_data[i]-mean[b]).dot(cov_inv[a][b])).dot(test_data[i].T-mean[b].T)\n",
    "        if b != 9:\n",
    "            if d1 > d2:\n",
    "                a=b\n",
    "            else:\n",
    "                a=a\n",
    "            b += 1\n",
    "        else:\n",
    "            if d1 < d2: \n",
    "                val=a\n",
    "            else: \n",
    "                val=b\n",
    "            break\n",
    "    if val == test_labels[i]:\n",
    "        count += 1\n",
    "\n",
    "print('Accuracy=', count/10, '%')"
   ]
  },
  {
   "cell_type": "code",
   "execution_count": 8,
   "metadata": {},
   "outputs": [
    {
     "name": "stdout",
     "output_type": "stream",
     "text": [
      "Accuracy is  77.0\n"
     ]
    }
   ],
   "source": [
    "# Print accuracy using Simple Perpendicular Bisector majority voting method\n",
    "cnt=0\n",
    "mean=[0]*10\n",
    "x=np.zeros([600,784])\n",
    "for i in range(10):\n",
    "    k=0\n",
    "    for j in range(6000):\n",
    "        if(train_labels[j]==i):\n",
    "            x[k]=train_data[j]\n",
    "            k+=1\n",
    "    mean[i]=np.mean(x,axis=0)\n",
    "for k in range(1000):\n",
    "    check=np.zeros(10)\n",
    "    sample=test_data[k]\n",
    "    for i in range(10):\n",
    "        for j in range(10):\n",
    "            mid=(mean[i]+mean[j])/2\n",
    "            bisector=np.dot(sample-mid,mean[j]-mean[i])\n",
    "            if(bisector<0):\n",
    "                check[i]+=1\n",
    "            else:\n",
    "                check[j]+=1       \n",
    "    if(np.argmax(check)==test_labels[k]):\n",
    "        cnt+=1\n",
    "print(\"Accuracy is \", cnt/10)"
   ]
  },
  {
   "cell_type": "markdown",
   "metadata": {
    "editable": false
   },
   "source": [
    "### 1.3.3 Question 4\n",
    "Compare performances and salient observations"
   ]
  },
  {
   "cell_type": "markdown",
   "metadata": {},
   "source": [
    "In this case as samples corresponding to each image are same in number map and mle both are same beacuse prior probability is same.\n",
    "performance is more for bayesian pairwise as compared to others."
   ]
  },
  {
   "cell_type": "markdown",
   "metadata": {
    "editable": false
   },
   "source": [
    "## 1.3.4 Nearest Neighbour based Tasks and Design\n",
    "---\n",
    "### 1.3.4 Question 1 : NN Classification with various K\n",
    "Implement a KNN classifier and print accuracies on the test set with K=1,3,7"
   ]
  },
  {
   "cell_type": "code",
   "execution_count": 30,
   "metadata": {},
   "outputs": [
    {
     "name": "stdout",
     "output_type": "stream",
     "text": [
      "91.9\n"
     ]
    }
   ],
   "source": [
    "# Your code here\n",
    "# Print accuracies with K = 1, 3, 7\n",
    "k=3\n",
    "a=np.zeros([1000,k])\n",
    "d=np.zeros([6000,2])\n",
    "final =np.zeros(1000)\n",
    "for i in range(1000):\n",
    "    p=test_data[i]\n",
    "    for j in range(6000):\n",
    "        t=train_data[j]\n",
    "        d[j][0]=np.linalg.norm(p-t)\n",
    "        d[j][1]=train_labels[j]\n",
    "    d=d[d[:,0].argsort()]\n",
    "    for z in range(k):\n",
    "        a[i][z]=int(d[z][1])\n",
    "accuracy=0\n",
    "for i in range(1000):\n",
    "    count=np.zeros(10)\n",
    "    for j in range(k):\n",
    "        count[int(a[i][j])]+=1\n",
    "    ma=max(count)\n",
    "    found=-1\n",
    "    for z in range(k):\n",
    "        if count[int(a[i][z])]==ma:\n",
    "            found=int(a[i][z])\n",
    "            break\n",
    "    if(found==test_labels[i]):\n",
    "        accuracy+=1\n",
    "print(accuracy/10)"
   ]
  },
  {
   "cell_type": "markdown",
   "metadata": {
    "editable": false
   },
   "source": [
    "### 1.3.4 Question 1 continued\n",
    "- Why / why not are the accuracies the same?\n",
    "- How do we identify the best K? Suggest a computational procedure with a logical explanation."
   ]
  },
  {
   "cell_type": "markdown",
   "metadata": {},
   "source": [
    "1) The slight difference in accuracies for different classes is due to noise data. When we are using a KNN algorithm for classification, and the algorithm encounters a tie, it doesn't have confidence which class to decide.\n",
    "\n",
    "2) K value should be odd to avoid ties. Also we can take k as sqrt(N) where N is the no. of training data samples. A practical approach is to plot the accuracies for each value of k ranging from {1,2,.....N} and then select the appropriate k."
   ]
  },
  {
   "cell_type": "markdown",
   "metadata": {
    "editable": false
   },
   "source": [
    "### 1.3.4 Question 2 :  Reverse NN based outlier detection\n",
    "A sample can be thought of as an outlier is it is NOT in the nearest neighbour set of anybody else. Expand this idea into an algorithm."
   ]
  },
  {
   "cell_type": "code",
   "execution_count": 5,
   "metadata": {
    "editable": false
   },
   "outputs": [
    {
     "name": "stdout",
     "output_type": "stream",
     "text": [
      "(20, 784)\n"
     ]
    }
   ],
   "source": [
    "# This cell reads mixed data containing both MNIST digits and English characters.\n",
    "# The labels for this mixed data are random and are hence ignored.\n",
    "mixed_data, _ = read_data(\"outliers.csv\")\n",
    "print(mixed_data.shape)"
   ]
  },
  {
   "cell_type": "code",
   "execution_count": 14,
   "metadata": {},
   "outputs": [
    {
     "name": "stdout",
     "output_type": "stream",
     "text": [
      "index 0 is outlier\n",
      "index 1 is not outlier\n",
      "index 2 is outlier\n",
      "index 3 is not outlier\n",
      "index 4 is outlier\n",
      "index 5 is not outlier\n",
      "index 6 is outlier\n",
      "index 7 is outlier\n",
      "index 8 is not outlier\n",
      "index 9 is outlier\n",
      "index 10 is not outlier\n",
      "index 11 is outlier\n",
      "index 12 is not outlier\n",
      "index 13 is not outlier\n",
      "index 14 is not outlier\n",
      "index 15 is not outlier\n",
      "index 16 is not outlier\n",
      "index 17 is not outlier\n",
      "index 18 is outlier\n",
      "index 19 is outlier\n"
     ]
    }
   ],
   "source": [
    "k=3\n",
    "count = np.zeros(20)\n",
    "d=np.zeros([6019,2])\n",
    "for i in range(6000):\n",
    "    for j in range(6019):\n",
    "        if(j<6000):\n",
    "            if(j!=i):\n",
    "                d[j][0]=np.linalg.norm(train_data[i]-train_data[j])\n",
    "                d[j][1]=j\n",
    "        else:\n",
    "            d[j][0]=np.linalg.norm(train_data[i]-mixed_data[j-6000])\n",
    "            d[j][1]=j\n",
    "    d=d[d[:,0].argsort()] \n",
    "    for z in range(k):\n",
    "        if d[z][1]>5999: \n",
    "            count[int(d[z][1])-6000]=1\n",
    "\n",
    "for i in range(20):\n",
    "    if(count[i]==0):\n",
    "        print(\"index\",i,\"is outlier\")\n",
    "    else:\n",
    "        print(\"index\",i,\"is not outlier\")"
   ]
  },
  {
   "cell_type": "markdown",
   "metadata": {
    "editable": false
   },
   "source": [
    "### 1.3.4 Question 3 : NN for regression\n",
    "Assume that each classID in the train set corresponds to a neatness score as:\n",
    "$$ neatness = \\frac{classID}{10} $$\n",
    "\n",
    "---\n",
    "Assume we had to predict the neatness score for each test sample using NN based techiniques on the train set. Describe the algorithm."
   ]
  },
  {
   "cell_type": "markdown",
   "metadata": {},
   "source": [
    "We use KNN algorithm to find out mean of cleanliness Id's of k nearest neighbours for each row in test data. We then find out absolute difference between test label and cleanliness id."
   ]
  },
  {
   "cell_type": "markdown",
   "metadata": {
    "editable": false
   },
   "source": [
    "### 1.3.4 Question 3 continued\n",
    "Validate your algorithm on the test set. This code should print mean absolute error on the test set, using the train set for NN based regression."
   ]
  },
  {
   "cell_type": "code",
   "execution_count": 18,
   "metadata": {},
   "outputs": [
    {
     "name": "stdout",
     "output_type": "stream",
     "text": [
      "0.03773333333333335\n"
     ]
    }
   ],
   "source": [
    "# # Your code here\n",
    "k=3\n",
    "a=np.zeros([1000,k])\n",
    "d=np.zeros([6000,2])\n",
    "new_train_labels=train_labels/10\n",
    "new_test_labels=test_labels/10\n",
    "final =np.zeros(1000)\n",
    "for i in range(1000):\n",
    "    p=test_data[i]\n",
    "    for j in range(6000):\n",
    "        t=train_data[j]\n",
    "        d[j][0]=np.linalg.norm(p-t)\n",
    "        d[j][1]=new_train_labels[j]\n",
    "    d=d[d[:,0].argsort()]\n",
    "    for z in range(k):\n",
    "        a[i][z]=d[z][1]\n",
    "error=0\n",
    "p=np.zeros(1000)\n",
    "for i in range(1000):\n",
    "    for j in range(k):\n",
    "        p[i]+=a[i][j]\n",
    "for i in range(1000):\n",
    "    pr=p[i]/k\n",
    "    t=new_test_labels[i]\n",
    "    error+=np.absolute(pr-t)\n",
    "print(error/1000)"
   ]
  },
  {
   "cell_type": "markdown",
   "metadata": {
    "editable": false
   },
   "source": [
    "---\n",
    "# FOLLOW THE SUBMISSION INSTRUCTIONS\n",
    "---"
   ]
  }
 ],
 "metadata": {
  "kernelspec": {
   "display_name": "Python 3",
   "language": "python",
   "name": "python3"
  },
  "language_info": {
   "codemirror_mode": {
    "name": "ipython",
    "version": 3
   },
   "file_extension": ".py",
   "mimetype": "text/x-python",
   "name": "python",
   "nbconvert_exporter": "python",
   "pygments_lexer": "ipython3",
   "version": "3.5.2"
  }
 },
 "nbformat": 4,
 "nbformat_minor": 2
}
